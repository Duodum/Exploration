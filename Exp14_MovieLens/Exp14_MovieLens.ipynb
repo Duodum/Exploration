{
 "cells": [
  {
   "cell_type": "markdown",
   "id": "7fcbd672",
   "metadata": {},
   "source": [
    "# Exp 14. 영화 추천"
   ]
  },
  {
   "cell_type": "markdown",
   "id": "5ffcb3d8",
   "metadata": {},
   "source": [
    "### 1) 라이브러리 및 데이터 불러오기"
   ]
  },
  {
   "cell_type": "code",
   "execution_count": 1,
   "id": "1a031d24",
   "metadata": {},
   "outputs": [
    {
     "data": {
      "text/html": [
       "<div>\n",
       "<style scoped>\n",
       "    .dataframe tbody tr th:only-of-type {\n",
       "        vertical-align: middle;\n",
       "    }\n",
       "\n",
       "    .dataframe tbody tr th {\n",
       "        vertical-align: top;\n",
       "    }\n",
       "\n",
       "    .dataframe thead th {\n",
       "        text-align: right;\n",
       "    }\n",
       "</style>\n",
       "<table border=\"1\" class=\"dataframe\">\n",
       "  <thead>\n",
       "    <tr style=\"text-align: right;\">\n",
       "      <th></th>\n",
       "      <th>user_id</th>\n",
       "      <th>movie_id</th>\n",
       "      <th>ratings</th>\n",
       "      <th>timestamp</th>\n",
       "    </tr>\n",
       "  </thead>\n",
       "  <tbody>\n",
       "    <tr>\n",
       "      <th>0</th>\n",
       "      <td>1</td>\n",
       "      <td>1193</td>\n",
       "      <td>5</td>\n",
       "      <td>978300760</td>\n",
       "    </tr>\n",
       "    <tr>\n",
       "      <th>1</th>\n",
       "      <td>1</td>\n",
       "      <td>661</td>\n",
       "      <td>3</td>\n",
       "      <td>978302109</td>\n",
       "    </tr>\n",
       "    <tr>\n",
       "      <th>2</th>\n",
       "      <td>1</td>\n",
       "      <td>914</td>\n",
       "      <td>3</td>\n",
       "      <td>978301968</td>\n",
       "    </tr>\n",
       "    <tr>\n",
       "      <th>3</th>\n",
       "      <td>1</td>\n",
       "      <td>3408</td>\n",
       "      <td>4</td>\n",
       "      <td>978300275</td>\n",
       "    </tr>\n",
       "    <tr>\n",
       "      <th>4</th>\n",
       "      <td>1</td>\n",
       "      <td>2355</td>\n",
       "      <td>5</td>\n",
       "      <td>978824291</td>\n",
       "    </tr>\n",
       "  </tbody>\n",
       "</table>\n",
       "</div>"
      ],
      "text/plain": [
       "   user_id  movie_id  ratings  timestamp\n",
       "0        1      1193        5  978300760\n",
       "1        1       661        3  978302109\n",
       "2        1       914        3  978301968\n",
       "3        1      3408        4  978300275\n",
       "4        1      2355        5  978824291"
      ]
     },
     "execution_count": 1,
     "metadata": {},
     "output_type": "execute_result"
    }
   ],
   "source": [
    "import os\n",
    "import pandas as pd\n",
    "import numpy as np\n",
    "\n",
    "rating_file_path=os.getenv('HOME') + '/aiffel/recommendata_iu/data/ml-1m/ratings.dat'\n",
    "ratings_cols = ['user_id', 'movie_id', 'ratings', 'timestamp']\n",
    "ratings = pd.read_csv(rating_file_path, sep='::', names=ratings_cols, engine='python', encoding = \"ISO-8859-1\")\n",
    "orginal_data_size = len(ratings)\n",
    "ratings.head()"
   ]
  },
  {
   "cell_type": "code",
   "execution_count": 2,
   "id": "5d0de74e",
   "metadata": {},
   "outputs": [
    {
     "name": "stdout",
     "output_type": "stream",
     "text": [
      "orginal_data_size: 1000209, filtered_data_size: 836478\n",
      "Ratio of Remaining Data is 83.63%\n"
     ]
    }
   ],
   "source": [
    "ratings = ratings[ratings['ratings']>=3]\n",
    "filtered_data_size = len(ratings)\n",
    "\n",
    "print(f'orginal_data_size: {orginal_data_size}, filtered_data_size: {filtered_data_size}')\n",
    "print(f'Ratio of Remaining Data is {filtered_data_size / orginal_data_size:.2%}')"
   ]
  },
  {
   "cell_type": "code",
   "execution_count": 3,
   "id": "8f31265f",
   "metadata": {},
   "outputs": [],
   "source": [
    "ratings.rename(columns={'ratings':'counts'}, inplace=True)"
   ]
  },
  {
   "cell_type": "code",
   "execution_count": 4,
   "id": "6d44e078",
   "metadata": {},
   "outputs": [
    {
     "data": {
      "text/plain": [
       "0          5\n",
       "1          3\n",
       "2          3\n",
       "3          4\n",
       "4          5\n",
       "          ..\n",
       "1000203    3\n",
       "1000205    5\n",
       "1000206    5\n",
       "1000207    4\n",
       "1000208    4\n",
       "Name: counts, Length: 836478, dtype: int64"
      ]
     },
     "execution_count": 4,
     "metadata": {},
     "output_type": "execute_result"
    }
   ],
   "source": [
    "ratings['counts']"
   ]
  },
  {
   "cell_type": "code",
   "execution_count": 5,
   "id": "086d7a55",
   "metadata": {},
   "outputs": [
    {
     "data": {
      "text/html": [
       "<div>\n",
       "<style scoped>\n",
       "    .dataframe tbody tr th:only-of-type {\n",
       "        vertical-align: middle;\n",
       "    }\n",
       "\n",
       "    .dataframe tbody tr th {\n",
       "        vertical-align: top;\n",
       "    }\n",
       "\n",
       "    .dataframe thead th {\n",
       "        text-align: right;\n",
       "    }\n",
       "</style>\n",
       "<table border=\"1\" class=\"dataframe\">\n",
       "  <thead>\n",
       "    <tr style=\"text-align: right;\">\n",
       "      <th></th>\n",
       "      <th>movie_id</th>\n",
       "      <th>title</th>\n",
       "      <th>genre</th>\n",
       "    </tr>\n",
       "  </thead>\n",
       "  <tbody>\n",
       "    <tr>\n",
       "      <th>0</th>\n",
       "      <td>1</td>\n",
       "      <td>Toy Story (1995)</td>\n",
       "      <td>Animation|Children's|Comedy</td>\n",
       "    </tr>\n",
       "    <tr>\n",
       "      <th>1</th>\n",
       "      <td>2</td>\n",
       "      <td>Jumanji (1995)</td>\n",
       "      <td>Adventure|Children's|Fantasy</td>\n",
       "    </tr>\n",
       "    <tr>\n",
       "      <th>2</th>\n",
       "      <td>3</td>\n",
       "      <td>Grumpier Old Men (1995)</td>\n",
       "      <td>Comedy|Romance</td>\n",
       "    </tr>\n",
       "    <tr>\n",
       "      <th>3</th>\n",
       "      <td>4</td>\n",
       "      <td>Waiting to Exhale (1995)</td>\n",
       "      <td>Comedy|Drama</td>\n",
       "    </tr>\n",
       "    <tr>\n",
       "      <th>4</th>\n",
       "      <td>5</td>\n",
       "      <td>Father of the Bride Part II (1995)</td>\n",
       "      <td>Comedy</td>\n",
       "    </tr>\n",
       "  </tbody>\n",
       "</table>\n",
       "</div>"
      ],
      "text/plain": [
       "   movie_id                               title                         genre\n",
       "0         1                    Toy Story (1995)   Animation|Children's|Comedy\n",
       "1         2                      Jumanji (1995)  Adventure|Children's|Fantasy\n",
       "2         3             Grumpier Old Men (1995)                Comedy|Romance\n",
       "3         4            Waiting to Exhale (1995)                  Comedy|Drama\n",
       "4         5  Father of the Bride Part II (1995)                        Comedy"
      ]
     },
     "execution_count": 5,
     "metadata": {},
     "output_type": "execute_result"
    }
   ],
   "source": [
    "movie_file_path=os.getenv('HOME') + '/aiffel/recommendata_iu/data/ml-1m/movies.dat'\n",
    "cols = ['movie_id', 'title', 'genre'] \n",
    "movies = pd.read_csv(movie_file_path, sep='::', names=cols, engine='python', encoding='ISO-8859-1')\n",
    "movies.head()"
   ]
  },
  {
   "cell_type": "code",
   "execution_count": 6,
   "id": "c49a665f",
   "metadata": {},
   "outputs": [
    {
     "data": {
      "text/html": [
       "<div>\n",
       "<style scoped>\n",
       "    .dataframe tbody tr th:only-of-type {\n",
       "        vertical-align: middle;\n",
       "    }\n",
       "\n",
       "    .dataframe tbody tr th {\n",
       "        vertical-align: top;\n",
       "    }\n",
       "\n",
       "    .dataframe thead th {\n",
       "        text-align: right;\n",
       "    }\n",
       "</style>\n",
       "<table border=\"1\" class=\"dataframe\">\n",
       "  <thead>\n",
       "    <tr style=\"text-align: right;\">\n",
       "      <th></th>\n",
       "      <th>user_id</th>\n",
       "      <th>movie_id</th>\n",
       "      <th>title</th>\n",
       "      <th>counts</th>\n",
       "    </tr>\n",
       "  </thead>\n",
       "  <tbody>\n",
       "    <tr>\n",
       "      <th>0</th>\n",
       "      <td>1</td>\n",
       "      <td>1193</td>\n",
       "      <td>One Flew Over the Cuckoo's Nest (1975)</td>\n",
       "      <td>5</td>\n",
       "    </tr>\n",
       "    <tr>\n",
       "      <th>31113</th>\n",
       "      <td>1</td>\n",
       "      <td>2294</td>\n",
       "      <td>Antz (1998)</td>\n",
       "      <td>4</td>\n",
       "    </tr>\n",
       "    <tr>\n",
       "      <th>31674</th>\n",
       "      <td>1</td>\n",
       "      <td>3186</td>\n",
       "      <td>Girl, Interrupted (1999)</td>\n",
       "      <td>4</td>\n",
       "    </tr>\n",
       "    <tr>\n",
       "      <th>32044</th>\n",
       "      <td>1</td>\n",
       "      <td>1566</td>\n",
       "      <td>Hercules (1997)</td>\n",
       "      <td>4</td>\n",
       "    </tr>\n",
       "    <tr>\n",
       "      <th>32415</th>\n",
       "      <td>1</td>\n",
       "      <td>588</td>\n",
       "      <td>Aladdin (1992)</td>\n",
       "      <td>4</td>\n",
       "    </tr>\n",
       "    <tr>\n",
       "      <th>...</th>\n",
       "      <td>...</td>\n",
       "      <td>...</td>\n",
       "      <td>...</td>\n",
       "      <td>...</td>\n",
       "    </tr>\n",
       "    <tr>\n",
       "      <th>657728</th>\n",
       "      <td>6040</td>\n",
       "      <td>334</td>\n",
       "      <td>Vanya on 42nd Street (1994)</td>\n",
       "      <td>4</td>\n",
       "    </tr>\n",
       "    <tr>\n",
       "      <th>393446</th>\n",
       "      <td>6040</td>\n",
       "      <td>1294</td>\n",
       "      <td>M*A*S*H (1970)</td>\n",
       "      <td>4</td>\n",
       "    </tr>\n",
       "    <tr>\n",
       "      <th>253075</th>\n",
       "      <td>6040</td>\n",
       "      <td>994</td>\n",
       "      <td>Big Night (1996)</td>\n",
       "      <td>3</td>\n",
       "    </tr>\n",
       "    <tr>\n",
       "      <th>127665</th>\n",
       "      <td>6040</td>\n",
       "      <td>2396</td>\n",
       "      <td>Shakespeare in Love (1998)</td>\n",
       "      <td>3</td>\n",
       "    </tr>\n",
       "    <tr>\n",
       "      <th>738957</th>\n",
       "      <td>6040</td>\n",
       "      <td>2725</td>\n",
       "      <td>Twin Falls Idaho (1999)</td>\n",
       "      <td>4</td>\n",
       "    </tr>\n",
       "  </tbody>\n",
       "</table>\n",
       "<p>836478 rows × 4 columns</p>\n",
       "</div>"
      ],
      "text/plain": [
       "        user_id  movie_id                                   title  counts\n",
       "0             1      1193  One Flew Over the Cuckoo's Nest (1975)       5\n",
       "31113         1      2294                             Antz (1998)       4\n",
       "31674         1      3186                Girl, Interrupted (1999)       4\n",
       "32044         1      1566                         Hercules (1997)       4\n",
       "32415         1       588                          Aladdin (1992)       4\n",
       "...         ...       ...                                     ...     ...\n",
       "657728     6040       334             Vanya on 42nd Street (1994)       4\n",
       "393446     6040      1294                          M*A*S*H (1970)       4\n",
       "253075     6040       994                        Big Night (1996)       3\n",
       "127665     6040      2396              Shakespeare in Love (1998)       3\n",
       "738957     6040      2725                 Twin Falls Idaho (1999)       4\n",
       "\n",
       "[836478 rows x 4 columns]"
      ]
     },
     "execution_count": 6,
     "metadata": {},
     "output_type": "execute_result"
    }
   ],
   "source": [
    "ratings = pd.merge(ratings, movies)\n",
    "ratings = ratings[[\"user_id\", \"movie_id\", \"title\", \"counts\"]]\n",
    "ratings.sort_values('user_id')"
   ]
  },
  {
   "cell_type": "markdown",
   "id": "37a37043",
   "metadata": {},
   "source": [
    "### 2) 분석"
   ]
  },
  {
   "cell_type": "code",
   "execution_count": 7,
   "id": "ea110c26",
   "metadata": {},
   "outputs": [
    {
     "name": "stdout",
     "output_type": "stream",
     "text": [
      "ratings에 있는 유니크한 영화 개수 : 3628\n",
      "ratings에 있는 유니크한 사용자 수 : 6039\n"
     ]
    }
   ],
   "source": [
    "print('ratings에 있는 유니크한 영화 개수 : {}'.format(ratings['movie_id'].nunique()))\n",
    "print('ratings에 있는 유니크한 사용자 수 : {}'.format(ratings['user_id'].nunique()))"
   ]
  },
  {
   "cell_type": "code",
   "execution_count": 8,
   "id": "d3e53d90",
   "metadata": {},
   "outputs": [
    {
     "data": {
      "text/plain": [
       "title\n",
       "American Beauty (1999)                                   3211\n",
       "Star Wars: Episode IV - A New Hope (1977)                2910\n",
       "Star Wars: Episode V - The Empire Strikes Back (1980)    2885\n",
       "Star Wars: Episode VI - Return of the Jedi (1983)        2716\n",
       "Saving Private Ryan (1998)                               2561\n",
       "Terminator 2: Judgment Day (1991)                        2509\n",
       "Silence of the Lambs, The (1991)                         2498\n",
       "Raiders of the Lost Ark (1981)                           2473\n",
       "Back to the Future (1985)                                2460\n",
       "Matrix, The (1999)                                       2434\n",
       "Jurassic Park (1993)                                     2413\n",
       "Sixth Sense, The (1999)                                  2385\n",
       "Fargo (1996)                                             2371\n",
       "Braveheart (1995)                                        2314\n",
       "Men in Black (1997)                                      2297\n",
       "Schindler's List (1993)                                  2257\n",
       "Princess Bride, The (1987)                               2252\n",
       "Shakespeare in Love (1998)                               2213\n",
       "L.A. Confidential (1997)                                 2210\n",
       "Shawshank Redemption, The (1994)                         2194\n",
       "Godfather, The (1972)                                    2167\n",
       "Groundhog Day (1993)                                     2121\n",
       "E.T. the Extra-Terrestrial (1982)                        2102\n",
       "Being John Malkovich (1999)                              2066\n",
       "Ghostbusters (1984)                                      2051\n",
       "Pulp Fiction (1994)                                      2030\n",
       "Forrest Gump (1994)                                      2022\n",
       "Terminator, The (1984)                                   2019\n",
       "Toy Story (1995)                                         2000\n",
       "Fugitive, The (1993)                                     1941\n",
       "Name: user_id, dtype: int64"
      ]
     },
     "execution_count": 8,
     "metadata": {},
     "output_type": "execute_result"
    }
   ],
   "source": [
    "movie_cnt = ratings.groupby('title')['user_id'].count()\n",
    "movie_cnt.sort_values(ascending=False).head(30)"
   ]
  },
  {
   "cell_type": "markdown",
   "id": "581be5da",
   "metadata": {},
   "source": [
    "### 3) 선호하는 영화"
   ]
  },
  {
   "cell_type": "code",
   "execution_count": 9,
   "id": "5950411e",
   "metadata": {},
   "outputs": [
    {
     "data": {
      "text/plain": [
       "array(['Jumanji (1995)', 'Kids of the Round Table (1995)',\n",
       "       'Indian in the Cupboard, The (1995)',\n",
       "       'NeverEnding Story III, The (1994)', 'Heavenly Creatures (1994)',\n",
       "       \"Kid in King Arthur's Court, A (1995)\",\n",
       "       'Star Wars: Episode IV - A New Hope (1977)',\n",
       "       'Santa Clause, The (1994)', 'Mask, The (1994)',\n",
       "       'Pagemaster, The (1994)', 'Dragonheart (1996)', 'Space Jam (1996)',\n",
       "       'Nutty Professor, The (1996)', 'Hungarian Fairy Tale, A (1987)',\n",
       "       'Kazaam (1996)', 'Bogus (1996)', 'Escape to Witch Mountain (1975)',\n",
       "       '20,000 Leagues Under the Sea (1954)',\n",
       "       'Willy Wonka and the Chocolate Factory (1971)',\n",
       "       'E.T. the Extra-Terrestrial (1982)', 'Drop Dead Fred (1991)',\n",
       "       'Warriors of Virtue (1997)', 'Simple Wish, A (1997)',\n",
       "       'FairyTale: A True Story (1997)', 'Flubber (1997)',\n",
       "       'Star Kid (1997)', 'Borrowers, The (1997)',\n",
       "       'Quest for Camelot (1998)', 'Small Soldiers (1998)',\n",
       "       'Labyrinth (1986)', 'Goonies, The (1985)',\n",
       "       'Absent Minded Professor, The (1961)', 'Babes in Toyland (1961)',\n",
       "       'Dune (1984)', \"Darby O'Gill and the Little People (1959)\",\n",
       "       'Honey, I Shrunk the Kids (1989)', 'One Magic Christmas (1985)',\n",
       "       'Peter Pan (1953)', 'Return to Oz (1985)', 'Splash (1984)',\n",
       "       'Tron (1982)', 'Watership Down (1978)', 'Dark Crystal, The (1982)',\n",
       "       'Legend (1985)', 'NeverEnding Story, The (1984)',\n",
       "       'NeverEnding Story II: The Next Chapter, The (1990)',\n",
       "       'Navigator: A Mediaeval Odyssey, The (1988)', 'Beetlejuice (1988)',\n",
       "       'Willow (1988)', 'Toys (1992)', 'Santa Claus: The Movie (1985)',\n",
       "       'Boy Who Could Fly, The (1986)',\n",
       "       \"Midsummer Night's Dream, A (1999)\",\n",
       "       'Star Wars: Episode I - The Phantom Menace (1999)', 'Big (1988)',\n",
       "       'Excalibur (1981)', 'Time Bandits (1981)',\n",
       "       '7th Voyage of Sinbad, The (1958)', 'Date with an Angel (1987)',\n",
       "       'Teenage Mutant Ninja Turtles (1990)',\n",
       "       'Teenage Mutant Ninja Turtles II: The Secret of the Ooze (1991)',\n",
       "       'Teenage Mutant Ninja Turtles III (1993)',\n",
       "       'Heart and Souls (1993)', 'Ladyhawke (1985)', 'Hook (1991)',\n",
       "       'Supergirl (1984)', 'Highlander: Endgame (2000)',\n",
       "       'Faraway, So Close (In Weiter Ferne, So Nah!) (1993)'],\n",
       "      dtype=object)"
      ]
     },
     "execution_count": 9,
     "metadata": {},
     "output_type": "execute_result"
    }
   ],
   "source": [
    "favorite_movie_genre = movies.loc[movies['genre'].str.contains('Fantasy')].copy()\n",
    "favorite_movie_genre['title'].unique()"
   ]
  },
  {
   "cell_type": "code",
   "execution_count": 10,
   "id": "f7925bd9",
   "metadata": {},
   "outputs": [
    {
     "data": {
      "text/html": [
       "<div>\n",
       "<style scoped>\n",
       "    .dataframe tbody tr th:only-of-type {\n",
       "        vertical-align: middle;\n",
       "    }\n",
       "\n",
       "    .dataframe tbody tr th {\n",
       "        vertical-align: top;\n",
       "    }\n",
       "\n",
       "    .dataframe thead th {\n",
       "        text-align: right;\n",
       "    }\n",
       "</style>\n",
       "<table border=\"1\" class=\"dataframe\">\n",
       "  <thead>\n",
       "    <tr style=\"text-align: right;\">\n",
       "      <th></th>\n",
       "      <th>user_id</th>\n",
       "      <th>title</th>\n",
       "      <th>movie_id</th>\n",
       "      <th>counts</th>\n",
       "    </tr>\n",
       "  </thead>\n",
       "  <tbody>\n",
       "    <tr>\n",
       "      <th>1</th>\n",
       "      <td>6039</td>\n",
       "      <td>Jumanji (1995)</td>\n",
       "      <td>2</td>\n",
       "      <td>5</td>\n",
       "    </tr>\n",
       "    <tr>\n",
       "      <th>257</th>\n",
       "      <td>6039</td>\n",
       "      <td>Star Wars: Episode IV - A New Hope (1977)</td>\n",
       "      <td>260</td>\n",
       "      <td>5</td>\n",
       "    </tr>\n",
       "    <tr>\n",
       "      <th>363</th>\n",
       "      <td>6039</td>\n",
       "      <td>Dragonheart (1996)</td>\n",
       "      <td>367</td>\n",
       "      <td>5</td>\n",
       "    </tr>\n",
       "    <tr>\n",
       "      <th>647</th>\n",
       "      <td>6039</td>\n",
       "      <td>Star Wars: Episode I - The Phantom Menace (1999)</td>\n",
       "      <td>653</td>\n",
       "      <td>5</td>\n",
       "    </tr>\n",
       "    <tr>\n",
       "      <th>2559</th>\n",
       "      <td>6039</td>\n",
       "      <td>Mask, The (1994)</td>\n",
       "      <td>2628</td>\n",
       "      <td>5</td>\n",
       "    </tr>\n",
       "  </tbody>\n",
       "</table>\n",
       "</div>"
      ],
      "text/plain": [
       "     user_id                                             title  movie_id  \\\n",
       "1       6039                                    Jumanji (1995)         2   \n",
       "257     6039         Star Wars: Episode IV - A New Hope (1977)       260   \n",
       "363     6039                                Dragonheart (1996)       367   \n",
       "647     6039  Star Wars: Episode I - The Phantom Menace (1999)       653   \n",
       "2559    6039                                  Mask, The (1994)      2628   \n",
       "\n",
       "      counts  \n",
       "1          5  \n",
       "257        5  \n",
       "363        5  \n",
       "647        5  \n",
       "2559       5  "
      ]
     },
     "execution_count": 10,
     "metadata": {},
     "output_type": "execute_result"
    }
   ],
   "source": [
    "favorite_movie_title = ['Jumanji (1995)',\n",
    "                        'Star Wars: Episode IV - A New Hope (1977)',\n",
    "                        'Dragonheart (1996)',\n",
    "                        'Star Wars: Episode I - The Phantom Menace (1999)',\n",
    "                        'Mask, The (1994)']\n",
    "favorite_movies = pd.DataFrame({'user_id': ['6039']*5, 'title': favorite_movie_title, \n",
    "                                'movie_id': movies[movies['title'].isin(favorite_movie_title)]['movie_id'], 'counts':[5]*5})\n",
    "favorite_movies"
   ]
  },
  {
   "cell_type": "code",
   "execution_count": 11,
   "id": "ed1c10b9",
   "metadata": {},
   "outputs": [
    {
     "data": {
      "text/html": [
       "<div>\n",
       "<style scoped>\n",
       "    .dataframe tbody tr th:only-of-type {\n",
       "        vertical-align: middle;\n",
       "    }\n",
       "\n",
       "    .dataframe tbody tr th {\n",
       "        vertical-align: top;\n",
       "    }\n",
       "\n",
       "    .dataframe thead th {\n",
       "        text-align: right;\n",
       "    }\n",
       "</style>\n",
       "<table border=\"1\" class=\"dataframe\">\n",
       "  <thead>\n",
       "    <tr style=\"text-align: right;\">\n",
       "      <th></th>\n",
       "      <th>user_id</th>\n",
       "      <th>movie_id</th>\n",
       "      <th>title</th>\n",
       "      <th>counts</th>\n",
       "    </tr>\n",
       "  </thead>\n",
       "  <tbody>\n",
       "    <tr>\n",
       "      <th>836473</th>\n",
       "      <td>5851</td>\n",
       "      <td>3607</td>\n",
       "      <td>One Little Indian (1973)</td>\n",
       "      <td>5</td>\n",
       "    </tr>\n",
       "    <tr>\n",
       "      <th>836474</th>\n",
       "      <td>5854</td>\n",
       "      <td>3026</td>\n",
       "      <td>Slaughterhouse (1987)</td>\n",
       "      <td>4</td>\n",
       "    </tr>\n",
       "    <tr>\n",
       "      <th>836475</th>\n",
       "      <td>5854</td>\n",
       "      <td>690</td>\n",
       "      <td>Promise, The (Versprechen, Das) (1994)</td>\n",
       "      <td>3</td>\n",
       "    </tr>\n",
       "    <tr>\n",
       "      <th>836476</th>\n",
       "      <td>5938</td>\n",
       "      <td>2909</td>\n",
       "      <td>Five Wives, Three Secretaries and Me (1998)</td>\n",
       "      <td>4</td>\n",
       "    </tr>\n",
       "    <tr>\n",
       "      <th>836477</th>\n",
       "      <td>5948</td>\n",
       "      <td>1360</td>\n",
       "      <td>Identification of a Woman (Identificazione di ...</td>\n",
       "      <td>5</td>\n",
       "    </tr>\n",
       "    <tr>\n",
       "      <th>836478</th>\n",
       "      <td>6039</td>\n",
       "      <td>2</td>\n",
       "      <td>Jumanji (1995)</td>\n",
       "      <td>5</td>\n",
       "    </tr>\n",
       "    <tr>\n",
       "      <th>836479</th>\n",
       "      <td>6039</td>\n",
       "      <td>260</td>\n",
       "      <td>Star Wars: Episode IV - A New Hope (1977)</td>\n",
       "      <td>5</td>\n",
       "    </tr>\n",
       "    <tr>\n",
       "      <th>836480</th>\n",
       "      <td>6039</td>\n",
       "      <td>367</td>\n",
       "      <td>Dragonheart (1996)</td>\n",
       "      <td>5</td>\n",
       "    </tr>\n",
       "    <tr>\n",
       "      <th>836481</th>\n",
       "      <td>6039</td>\n",
       "      <td>653</td>\n",
       "      <td>Star Wars: Episode I - The Phantom Menace (1999)</td>\n",
       "      <td>5</td>\n",
       "    </tr>\n",
       "    <tr>\n",
       "      <th>836482</th>\n",
       "      <td>6039</td>\n",
       "      <td>2628</td>\n",
       "      <td>Mask, The (1994)</td>\n",
       "      <td>5</td>\n",
       "    </tr>\n",
       "  </tbody>\n",
       "</table>\n",
       "</div>"
      ],
      "text/plain": [
       "       user_id  movie_id                                              title  \\\n",
       "836473    5851      3607                           One Little Indian (1973)   \n",
       "836474    5854      3026                              Slaughterhouse (1987)   \n",
       "836475    5854       690             Promise, The (Versprechen, Das) (1994)   \n",
       "836476    5938      2909        Five Wives, Three Secretaries and Me (1998)   \n",
       "836477    5948      1360  Identification of a Woman (Identificazione di ...   \n",
       "836478    6039         2                                     Jumanji (1995)   \n",
       "836479    6039       260          Star Wars: Episode IV - A New Hope (1977)   \n",
       "836480    6039       367                                 Dragonheart (1996)   \n",
       "836481    6039       653   Star Wars: Episode I - The Phantom Menace (1999)   \n",
       "836482    6039      2628                                   Mask, The (1994)   \n",
       "\n",
       "        counts  \n",
       "836473       5  \n",
       "836474       4  \n",
       "836475       3  \n",
       "836476       4  \n",
       "836477       5  \n",
       "836478       5  \n",
       "836479       5  \n",
       "836480       5  \n",
       "836481       5  \n",
       "836482       5  "
      ]
     },
     "execution_count": 11,
     "metadata": {},
     "output_type": "execute_result"
    }
   ],
   "source": [
    "if not ratings.isin({'user_id':['6039']})['user_id'].any():\n",
    "    ratings = ratings.append(favorite_movies, ignore_index=True)\n",
    "\n",
    "ratings.tail(10)"
   ]
  },
  {
   "cell_type": "code",
   "execution_count": 12,
   "id": "a6ce78b0",
   "metadata": {},
   "outputs": [],
   "source": [
    "user_unique = ratings['user_id'].unique()\n",
    "movie_unique = ratings['title'].unique()\n",
    "\n",
    "user_to_idx = {v:k for k,v in enumerate(user_unique)}\n",
    "movie_to_idx = {v:k for k,v in enumerate(movie_unique)}"
   ]
  },
  {
   "cell_type": "code",
   "execution_count": 13,
   "id": "7227c27d",
   "metadata": {},
   "outputs": [
    {
     "name": "stdout",
     "output_type": "stream",
     "text": [
      "user_id column indexing OK!!\n",
      "movie_id column indexing OK!!\n"
     ]
    },
    {
     "data": {
      "text/html": [
       "<div>\n",
       "<style scoped>\n",
       "    .dataframe tbody tr th:only-of-type {\n",
       "        vertical-align: middle;\n",
       "    }\n",
       "\n",
       "    .dataframe tbody tr th {\n",
       "        vertical-align: top;\n",
       "    }\n",
       "\n",
       "    .dataframe thead th {\n",
       "        text-align: right;\n",
       "    }\n",
       "</style>\n",
       "<table border=\"1\" class=\"dataframe\">\n",
       "  <thead>\n",
       "    <tr style=\"text-align: right;\">\n",
       "      <th></th>\n",
       "      <th>user_id</th>\n",
       "      <th>movie_id</th>\n",
       "      <th>title</th>\n",
       "      <th>counts</th>\n",
       "    </tr>\n",
       "  </thead>\n",
       "  <tbody>\n",
       "    <tr>\n",
       "      <th>0</th>\n",
       "      <td>0</td>\n",
       "      <td>0</td>\n",
       "      <td>One Flew Over the Cuckoo's Nest (1975)</td>\n",
       "      <td>5</td>\n",
       "    </tr>\n",
       "    <tr>\n",
       "      <th>1</th>\n",
       "      <td>1</td>\n",
       "      <td>0</td>\n",
       "      <td>One Flew Over the Cuckoo's Nest (1975)</td>\n",
       "      <td>5</td>\n",
       "    </tr>\n",
       "    <tr>\n",
       "      <th>2</th>\n",
       "      <td>2</td>\n",
       "      <td>0</td>\n",
       "      <td>One Flew Over the Cuckoo's Nest (1975)</td>\n",
       "      <td>4</td>\n",
       "    </tr>\n",
       "    <tr>\n",
       "      <th>3</th>\n",
       "      <td>3</td>\n",
       "      <td>0</td>\n",
       "      <td>One Flew Over the Cuckoo's Nest (1975)</td>\n",
       "      <td>4</td>\n",
       "    </tr>\n",
       "    <tr>\n",
       "      <th>4</th>\n",
       "      <td>4</td>\n",
       "      <td>0</td>\n",
       "      <td>One Flew Over the Cuckoo's Nest (1975)</td>\n",
       "      <td>5</td>\n",
       "    </tr>\n",
       "    <tr>\n",
       "      <th>...</th>\n",
       "      <td>...</td>\n",
       "      <td>...</td>\n",
       "      <td>...</td>\n",
       "      <td>...</td>\n",
       "    </tr>\n",
       "    <tr>\n",
       "      <th>836478</th>\n",
       "      <td>6039</td>\n",
       "      <td>513</td>\n",
       "      <td>Jumanji (1995)</td>\n",
       "      <td>5</td>\n",
       "    </tr>\n",
       "    <tr>\n",
       "      <th>836479</th>\n",
       "      <td>6039</td>\n",
       "      <td>44</td>\n",
       "      <td>Star Wars: Episode IV - A New Hope (1977)</td>\n",
       "      <td>5</td>\n",
       "    </tr>\n",
       "    <tr>\n",
       "      <th>836480</th>\n",
       "      <td>6039</td>\n",
       "      <td>173</td>\n",
       "      <td>Dragonheart (1996)</td>\n",
       "      <td>5</td>\n",
       "    </tr>\n",
       "    <tr>\n",
       "      <th>836481</th>\n",
       "      <td>6039</td>\n",
       "      <td>60</td>\n",
       "      <td>Star Wars: Episode I - The Phantom Menace (1999)</td>\n",
       "      <td>5</td>\n",
       "    </tr>\n",
       "    <tr>\n",
       "      <th>836482</th>\n",
       "      <td>6039</td>\n",
       "      <td>458</td>\n",
       "      <td>Mask, The (1994)</td>\n",
       "      <td>5</td>\n",
       "    </tr>\n",
       "  </tbody>\n",
       "</table>\n",
       "<p>836483 rows × 4 columns</p>\n",
       "</div>"
      ],
      "text/plain": [
       "        user_id  movie_id                                             title  \\\n",
       "0             0         0            One Flew Over the Cuckoo's Nest (1975)   \n",
       "1             1         0            One Flew Over the Cuckoo's Nest (1975)   \n",
       "2             2         0            One Flew Over the Cuckoo's Nest (1975)   \n",
       "3             3         0            One Flew Over the Cuckoo's Nest (1975)   \n",
       "4             4         0            One Flew Over the Cuckoo's Nest (1975)   \n",
       "...         ...       ...                                               ...   \n",
       "836478     6039       513                                    Jumanji (1995)   \n",
       "836479     6039        44         Star Wars: Episode IV - A New Hope (1977)   \n",
       "836480     6039       173                                Dragonheart (1996)   \n",
       "836481     6039        60  Star Wars: Episode I - The Phantom Menace (1999)   \n",
       "836482     6039       458                                  Mask, The (1994)   \n",
       "\n",
       "        counts  \n",
       "0            5  \n",
       "1            5  \n",
       "2            4  \n",
       "3            4  \n",
       "4            5  \n",
       "...        ...  \n",
       "836478       5  \n",
       "836479       5  \n",
       "836480       5  \n",
       "836481       5  \n",
       "836482       5  \n",
       "\n",
       "[836483 rows x 4 columns]"
      ]
     },
     "execution_count": 13,
     "metadata": {},
     "output_type": "execute_result"
    }
   ],
   "source": [
    "temp_user_data = ratings['user_id'].map(user_to_idx.get).dropna()\n",
    "if len(temp_user_data) == len(ratings):\n",
    "    print('user_id column indexing OK!!')\n",
    "    ratings['user_id'] = temp_user_data\n",
    "else:\n",
    "    print('user_id column indexing Fail!!')\n",
    "\n",
    "temp_movie_data = ratings['title'].map(movie_to_idx.get).dropna()\n",
    "if len(temp_movie_data) == len(ratings):\n",
    "    print('movie_id column indexing OK!!')\n",
    "    ratings['movie_id'] = temp_movie_data\n",
    "else:\n",
    "    print('movie_id column indexing Fail!!')\n",
    "\n",
    "ratings"
   ]
  },
  {
   "cell_type": "markdown",
   "id": "16780d57",
   "metadata": {},
   "source": [
    "### 4) CSR matrix"
   ]
  },
  {
   "cell_type": "code",
   "execution_count": 14,
   "id": "41fabb1f",
   "metadata": {},
   "outputs": [
    {
     "data": {
      "text/plain": [
       "<6040x3628 sparse matrix of type '<class 'numpy.int64'>'\n",
       "\twith 836483 stored elements in Compressed Sparse Row format>"
      ]
     },
     "execution_count": 14,
     "metadata": {},
     "output_type": "execute_result"
    }
   ],
   "source": [
    "from scipy.sparse import csr_matrix\n",
    "\n",
    "num_user = ratings['user_id'].nunique()\n",
    "num_movie = ratings['movie_id'].nunique()\n",
    "\n",
    "csr_data = csr_matrix((ratings['counts'], (ratings['user_id'], ratings['movie_id'])), shape=(num_user, num_movie))\n",
    "csr_data"
   ]
  },
  {
   "cell_type": "markdown",
   "id": "9c589f04",
   "metadata": {},
   "source": [
    "### 5) 모델 생성 및 훈련"
   ]
  },
  {
   "cell_type": "code",
   "execution_count": 15,
   "id": "d490154d",
   "metadata": {},
   "outputs": [],
   "source": [
    "from implicit.als import AlternatingLeastSquares\n",
    "import os\n",
    "import numpy as np\n",
    "\n",
    "os.environ['OPENBLAS_NUM_THREADS']='1'\n",
    "os.environ['KMP_DUPLICATE_LIB_OK']='True'\n",
    "os.environ['MKL_NUM_THREADS']='1'"
   ]
  },
  {
   "cell_type": "code",
   "execution_count": 16,
   "id": "17e2e1e3",
   "metadata": {},
   "outputs": [],
   "source": [
    "als_model = AlternatingLeastSquares(factors=200, regularization=0.01, use_gpu=False, iterations=30, dtype=np.float32)"
   ]
  },
  {
   "cell_type": "code",
   "execution_count": 17,
   "id": "d4fd3a9e",
   "metadata": {},
   "outputs": [
    {
     "data": {
      "text/plain": [
       "<3628x6040 sparse matrix of type '<class 'numpy.int64'>'\n",
       "\twith 836483 stored elements in Compressed Sparse Column format>"
      ]
     },
     "execution_count": 17,
     "metadata": {},
     "output_type": "execute_result"
    }
   ],
   "source": [
    "csr_data_transpose = csr_data.T\n",
    "csr_data_transpose"
   ]
  },
  {
   "cell_type": "code",
   "execution_count": 18,
   "id": "ba866566",
   "metadata": {},
   "outputs": [
    {
     "data": {
      "application/vnd.jupyter.widget-view+json": {
       "model_id": "c99a1d44474e455b8d75ee2b578a0768",
       "version_major": 2,
       "version_minor": 0
      },
      "text/plain": [
       "  0%|          | 0/30 [00:00<?, ?it/s]"
      ]
     },
     "metadata": {},
     "output_type": "display_data"
    }
   ],
   "source": [
    "als_model.fit(csr_data_transpose)"
   ]
  },
  {
   "cell_type": "markdown",
   "id": "e990b65b",
   "metadata": {},
   "source": [
    "### 6) 선호도 파악"
   ]
  },
  {
   "cell_type": "code",
   "execution_count": 19,
   "id": "9643491e",
   "metadata": {},
   "outputs": [],
   "source": [
    "my, jumanji = user_to_idx[6039], movie_to_idx['Jumanji (1995)']\n",
    "my_vector, jumanji_vector = als_model.user_factors[my], als_model.item_factors[jumanji]"
   ]
  },
  {
   "cell_type": "code",
   "execution_count": 20,
   "id": "e9087a24",
   "metadata": {},
   "outputs": [
    {
     "data": {
      "text/plain": [
       "array([-0.31249332,  0.12718166,  0.26611   , -0.18086724,  0.07412572,\n",
       "        1.6267239 , -1.6363617 , -0.40628105,  1.3532284 , -1.1189134 ,\n",
       "        0.88072914, -0.7983218 , -1.3761437 , -0.13419305, -0.92796296,\n",
       "        0.254639  ,  0.24736312, -2.4984725 , -0.48466623, -0.49043107,\n",
       "        0.7694245 , -2.806112  ,  0.06562494, -0.4589703 ,  0.6034861 ,\n",
       "        2.8480961 , -1.8063004 ,  0.24308814,  0.27633858, -0.97311014,\n",
       "       -1.8330153 ,  0.7777671 ,  2.666883  ,  1.406802  , -0.48624295,\n",
       "        1.6862243 , -1.2554765 ,  1.1107799 , -0.02632294, -0.70589083,\n",
       "       -0.03626778, -0.38931218, -0.02005378,  2.1779695 ,  1.8284215 ,\n",
       "        0.01565927,  1.9333401 ,  0.63492703,  0.54141885, -0.8414308 ,\n",
       "       -2.5609214 , -0.61087275,  1.2628998 ,  2.189325  , -2.936416  ,\n",
       "       -1.9410176 ,  0.58689576,  0.19538976,  1.9985044 ,  0.9040436 ,\n",
       "       -0.8568584 , -2.3671799 ,  1.6594874 , -0.9862287 ,  0.21653551,\n",
       "        1.9603248 ,  0.12585112, -1.254277  , -3.4754791 , -0.7678338 ,\n",
       "       -0.52832824, -0.17960542,  0.18731394, -0.52352774,  0.72359395,\n",
       "        1.7501863 , -1.1078348 ,  0.6122571 ,  0.74602187,  0.32649663,\n",
       "       -0.48608783, -1.136853  ,  0.07977034,  0.00787979, -1.7317132 ,\n",
       "        0.5185982 ,  0.38893643, -0.50702643, -0.9819372 , -0.16071366,\n",
       "        1.0283173 ,  0.7724684 , -1.3653818 ,  0.76515496,  0.3278499 ,\n",
       "       -1.054071  ,  1.1885682 ,  1.4875828 ,  0.382236  , -0.62985843,\n",
       "        1.3351403 ,  3.0574813 ,  2.7008202 ,  2.078845  , -1.687447  ,\n",
       "        1.9527304 ,  0.65820277, -2.1139898 ,  0.35263723, -1.8044132 ,\n",
       "       -0.044813  ,  0.18554875, -0.02506679,  0.7808555 , -0.49102002,\n",
       "       -0.16508318, -0.7837305 , -1.4251492 , -1.553631  , -0.40685263,\n",
       "       -0.5587672 ,  1.3821752 ,  1.3319445 ,  0.12696882, -0.13968782,\n",
       "        0.13581301, -0.99376786,  1.9130685 , -1.2271419 ,  1.9037142 ,\n",
       "        0.06910299, -2.8101025 ,  0.47799727,  3.7794037 , -1.491123  ,\n",
       "       -0.9493596 ,  0.40942007, -0.22110666,  1.6578131 , -0.12818052,\n",
       "        0.37219226, -0.33862755, -0.86261356, -0.67541444,  0.40386727,\n",
       "       -0.39688137,  1.0830349 , -1.4205827 , -0.20876475,  0.0820091 ,\n",
       "        0.6400492 ,  1.0731686 ,  1.6570898 ,  2.412176  , -0.68920565,\n",
       "        1.6595421 ,  0.02655205, -0.15188973,  1.4278932 , -0.26683918,\n",
       "        0.22463672,  0.02953101,  1.4731953 ,  1.2019448 , -0.01523736,\n",
       "        0.63813734,  1.064596  ,  0.05541599,  0.3429214 , -0.01064837,\n",
       "        1.5993782 ,  3.073688  , -0.4871158 , -1.3028221 , -1.4935807 ,\n",
       "        1.0749515 , -0.05876471,  1.0807762 , -1.4452108 ,  1.4334027 ,\n",
       "        0.36436382, -3.5588055 ,  0.75052494, -0.6462564 , -0.7027937 ,\n",
       "        2.9191043 , -0.28327456, -0.06659248,  0.955607  , -0.42645326,\n",
       "       -0.36613774, -1.5046539 ,  0.08534427,  3.37551   ,  0.34480354,\n",
       "        0.72579175,  1.4964697 , -0.3775733 ,  0.6151335 , -0.33391595],\n",
       "      dtype=float32)"
      ]
     },
     "execution_count": 20,
     "metadata": {},
     "output_type": "execute_result"
    }
   ],
   "source": [
    "my_vector"
   ]
  },
  {
   "cell_type": "code",
   "execution_count": 21,
   "id": "ebba492b",
   "metadata": {},
   "outputs": [
    {
     "data": {
      "text/plain": [
       "array([ 1.10664954e-02, -1.60373573e-03,  2.53787283e-02, -3.64773674e-03,\n",
       "        8.78028758e-03, -4.15557949e-03,  8.30163714e-03,  1.15698995e-02,\n",
       "       -1.24081634e-02, -5.15020499e-03,  6.87358016e-03, -3.36710154e-03,\n",
       "        1.31974956e-02, -2.96138357e-02, -1.62001029e-02,  9.62160435e-03,\n",
       "       -2.93142591e-02,  6.76875142e-03,  9.52741317e-03, -2.20155008e-02,\n",
       "        9.24298633e-03,  3.95818241e-03,  5.29975863e-03, -5.16238669e-03,\n",
       "       -1.00114918e-03,  4.67356807e-03,  4.90128202e-03,  6.25450676e-03,\n",
       "        2.88378284e-03,  1.15115130e-02,  8.07188731e-03,  8.40836763e-03,\n",
       "        2.33238190e-02,  7.31994864e-03, -1.22715840e-02,  1.69586726e-02,\n",
       "        1.39475856e-02, -1.85197871e-03, -6.00552943e-04,  1.29291480e-02,\n",
       "        1.87520944e-02,  7.82776158e-03,  9.32002813e-03,  1.77944638e-03,\n",
       "       -1.32733220e-02, -1.80650852e-03, -3.03523857e-02,  3.21450233e-02,\n",
       "        1.88847762e-02, -1.34796964e-03,  8.40489566e-03,  2.02775467e-02,\n",
       "       -1.69746075e-02,  1.36883007e-02,  1.92833412e-02, -2.47937464e-03,\n",
       "        9.76941362e-03,  2.69433223e-02, -6.19163550e-03,  2.52005830e-03,\n",
       "       -4.30227164e-03, -2.71278806e-03, -1.47505943e-02,  7.48698320e-03,\n",
       "        4.40056063e-03, -2.98778014e-03, -3.44341584e-02, -1.01417881e-02,\n",
       "        8.60690046e-03,  3.06811463e-02,  1.47487493e-02,  1.22714126e-02,\n",
       "       -1.24685755e-02,  1.33209201e-02,  6.22471841e-03, -3.53567465e-03,\n",
       "        5.18074213e-03, -6.40318962e-03,  9.76253394e-03,  3.78937870e-02,\n",
       "        1.65606663e-02,  3.85059440e-03,  1.70156211e-02,  1.09650996e-02,\n",
       "        1.54210012e-02,  3.17723751e-02,  1.95082035e-02, -1.15058534e-02,\n",
       "       -2.16932688e-03,  2.56591924e-02,  1.20050851e-02, -2.29579676e-03,\n",
       "        5.85500197e-03,  2.25547701e-02,  1.79665652e-03, -6.44710613e-03,\n",
       "        2.87718903e-02,  2.70899329e-02, -6.84613362e-03,  1.87179900e-03,\n",
       "        1.21995043e-02,  1.06105525e-02,  3.18197459e-02, -2.37310957e-03,\n",
       "        1.97179113e-02,  3.22371745e-03,  2.03969143e-02, -8.49816576e-03,\n",
       "       -2.53220927e-02, -1.77664240e-03,  1.71825457e-02,  1.46716917e-02,\n",
       "       -1.21147803e-03,  1.13848038e-02,  1.34820919e-02,  1.20314183e-02,\n",
       "        1.19956275e-02, -6.69368729e-03,  5.33708092e-03,  2.69392598e-02,\n",
       "        2.17219554e-02,  8.97926372e-03,  2.80941632e-02,  7.33305467e-03,\n",
       "        1.00523559e-02, -2.15388965e-02, -2.27030106e-02,  1.13411797e-02,\n",
       "        2.22449675e-02, -1.53661892e-02,  7.35170487e-03,  7.98049569e-03,\n",
       "        2.50847582e-02,  4.07729624e-03,  2.04257946e-02,  7.24278437e-03,\n",
       "        1.26365991e-02,  2.67061684e-02, -4.37671691e-03,  1.98840536e-02,\n",
       "       -3.40739707e-03,  5.70098497e-03,  2.51243711e-02, -6.42865477e-03,\n",
       "        4.19631042e-03, -5.49982581e-03, -5.88631444e-03,  1.61048248e-02,\n",
       "        3.14736483e-03,  8.56101699e-03, -5.48303826e-03,  6.10744022e-03,\n",
       "        2.29213238e-02,  3.01189981e-02,  8.48265481e-04, -1.03935972e-03,\n",
       "       -9.42172669e-03,  2.76034176e-02, -7.87076831e-04, -8.41086172e-03,\n",
       "        1.37389026e-04,  9.07644723e-03,  1.78251062e-02, -1.46556841e-02,\n",
       "        1.01156663e-02, -4.24921699e-03,  3.80307552e-03,  1.59723964e-02,\n",
       "       -3.59223013e-05,  6.67566154e-03,  5.87036647e-03,  4.07642964e-03,\n",
       "        7.40818726e-03,  9.20004491e-03, -5.17105404e-03,  7.73177436e-03,\n",
       "        1.00734504e-02, -3.18295811e-03,  1.07499147e-02, -2.41788402e-02,\n",
       "        8.87279306e-03,  4.51748073e-03,  6.77286368e-03,  1.65149104e-02,\n",
       "        5.96222794e-03,  9.23651177e-03, -6.29334152e-03, -2.09623575e-02,\n",
       "        7.20139081e-03, -2.40902826e-02,  3.63572389e-02,  7.97067955e-03,\n",
       "       -1.15239462e-02, -5.73722366e-03,  2.51771207e-03, -4.16651089e-03,\n",
       "        2.53899433e-02, -1.15164788e-02,  1.35961948e-02, -4.60460782e-03],\n",
       "      dtype=float32)"
      ]
     },
     "execution_count": 21,
     "metadata": {},
     "output_type": "execute_result"
    }
   ],
   "source": [
    "jumanji_vector"
   ]
  },
  {
   "cell_type": "code",
   "execution_count": 22,
   "id": "3aaccf0a",
   "metadata": {},
   "outputs": [
    {
     "data": {
      "text/plain": [
       "0.06560924"
      ]
     },
     "execution_count": 22,
     "metadata": {},
     "output_type": "execute_result"
    }
   ],
   "source": [
    "np.dot(my_vector, jumanji_vector)"
   ]
  },
  {
   "cell_type": "markdown",
   "id": "7d414c30",
   "metadata": {},
   "source": [
    "### 7) 선택한 영화와 비슷한 영화 추천"
   ]
  },
  {
   "cell_type": "code",
   "execution_count": 23,
   "id": "e2f0e883",
   "metadata": {},
   "outputs": [
    {
     "data": {
      "text/plain": [
       "[(513, 0.99999994),\n",
       " (596, 0.6781126),\n",
       " (1130, 0.6020307),\n",
       " (173, 0.58874166),\n",
       " (828, 0.5225777),\n",
       " (1736, 0.48039496),\n",
       " (545, 0.4610989),\n",
       " (1982, 0.46020842),\n",
       " (1985, 0.45647198),\n",
       " (935, 0.450898),\n",
       " (576, 0.4475639),\n",
       " (942, 0.4297157),\n",
       " (1733, 0.42957133),\n",
       " (687, 0.42790833),\n",
       " (2017, 0.42218864)]"
      ]
     },
     "execution_count": 23,
     "metadata": {},
     "output_type": "execute_result"
    }
   ],
   "source": [
    "favorite_movie = 'Jumanji (1995)'\n",
    "movie_id = movie_to_idx['Jumanji (1995)']\n",
    "similar_movie = als_model.similar_items(movie_id, N=15)\n",
    "similar_movie"
   ]
  },
  {
   "cell_type": "code",
   "execution_count": 24,
   "id": "87fe81be",
   "metadata": {},
   "outputs": [
    {
     "data": {
      "text/plain": [
       "['Jumanji (1995)',\n",
       " 'Hook (1991)',\n",
       " 'Indian in the Cupboard, The (1995)',\n",
       " 'Dragonheart (1996)',\n",
       " 'Flubber (1997)',\n",
       " 'Small Soldiers (1998)',\n",
       " 'Santa Clause, The (1994)',\n",
       " 'Space Jam (1996)',\n",
       " 'NeverEnding Story II: The Next Chapter, The (1990)',\n",
       " 'Casper (1995)',\n",
       " 'Escape to Witch Mountain (1975)',\n",
       " 'Legend (1985)',\n",
       " 'Borrowers, The (1997)',\n",
       " 'Simple Wish, A (1997)',\n",
       " 'Pagemaster, The (1994)']"
      ]
     },
     "execution_count": 24,
     "metadata": {},
     "output_type": "execute_result"
    }
   ],
   "source": [
    "idx_to_title = {v:k for k,v in movie_to_idx.items()}\n",
    "[idx_to_title[i[0]] for i in similar_movie]"
   ]
  },
  {
   "cell_type": "code",
   "execution_count": 25,
   "id": "c513efe3",
   "metadata": {},
   "outputs": [],
   "source": [
    "def get_similar_movie(movie_title: str):\n",
    "    movie_id = movie_to_idx[movie_title]\n",
    "    similar_movie = als_model.similar_items(movie_id)\n",
    "    similar_movie = [idx_to_title[i[0]] for i in similar_movie]\n",
    "    return similar_movie"
   ]
  },
  {
   "cell_type": "code",
   "execution_count": 26,
   "id": "611782de",
   "metadata": {},
   "outputs": [
    {
     "data": {
      "text/plain": [
       "['Dragonheart (1996)',\n",
       " 'Jumanji (1995)',\n",
       " 'Hook (1991)',\n",
       " 'Borrowers, The (1997)',\n",
       " 'Indian in the Cupboard, The (1995)',\n",
       " 'NeverEnding Story II: The Next Chapter, The (1990)',\n",
       " 'Legend (1985)',\n",
       " 'Flubber (1997)',\n",
       " 'Space Jam (1996)',\n",
       " 'Small Soldiers (1998)']"
      ]
     },
     "execution_count": 26,
     "metadata": {},
     "output_type": "execute_result"
    }
   ],
   "source": [
    "get_similar_movie('Dragonheart (1996)')"
   ]
  },
  {
   "cell_type": "markdown",
   "id": "32508ea1",
   "metadata": {},
   "source": [
    "### 8) 좋아할 만한 영화 추천"
   ]
  },
  {
   "cell_type": "code",
   "execution_count": 27,
   "id": "34f79569",
   "metadata": {},
   "outputs": [
    {
     "data": {
      "text/plain": [
       "[(1054, 1.3170713),\n",
       " (1455, 1.0216215),\n",
       " (8, 0.9308334),\n",
       " (658, 0.91855264),\n",
       " (117, 0.9154941),\n",
       " (14, 0.7917276),\n",
       " (1398, 0.7850543),\n",
       " (2032, 0.74985003),\n",
       " (619, 0.7352221),\n",
       " (1284, 0.715415),\n",
       " (1094, 0.69715947),\n",
       " (1096, 0.66916096),\n",
       " (46, 0.6584852),\n",
       " (536, 0.6570815),\n",
       " (19, 0.6551836),\n",
       " (911, 0.6548914),\n",
       " (1385, 0.65431565),\n",
       " (161, 0.65396047),\n",
       " (10, 0.6457759),\n",
       " (29, 0.64138055)]"
      ]
     },
     "execution_count": 27,
     "metadata": {},
     "output_type": "execute_result"
    }
   ],
   "source": [
    "user = user_to_idx[6039]\n",
    "\n",
    "movie_recommended = als_model.recommend(user, csr_data, N=20, filter_already_liked_items=True)\n",
    "movie_recommended"
   ]
  },
  {
   "cell_type": "code",
   "execution_count": 28,
   "id": "83ffcecb",
   "metadata": {},
   "outputs": [
    {
     "data": {
      "text/plain": [
       "['Some Like It Hot (1959)',\n",
       " 'Holiday Inn (1942)',\n",
       " 'Snow White and the Seven Dwarfs (1937)',\n",
       " 'White Christmas (1954)',\n",
       " 'Star Wars: Episode V - The Empire Strikes Back (1980)',\n",
       " 'Sound of Music, The (1965)',\n",
       " 'South Pacific (1958)',\n",
       " 'On the Town (1949)',\n",
       " 'Alice in Wonderland (1951)',\n",
       " 'It Happened One Night (1934)',\n",
       " 'Double Indemnity (1944)',\n",
       " 'Manchurian Candidate, The (1962)',\n",
       " 'Dumbo (1941)',\n",
       " 'Jungle Book, The (1967)',\n",
       " 'Big (1988)',\n",
       " 'Sleeper (1973)',\n",
       " 'Spellbound (1945)',\n",
       " 'Graduate, The (1967)',\n",
       " 'Beauty and the Beast (1991)',\n",
       " 'Close Shave, A (1995)']"
      ]
     },
     "execution_count": 28,
     "metadata": {},
     "output_type": "execute_result"
    }
   ],
   "source": [
    "[idx_to_title[i[0]] for i in movie_recommended]"
   ]
  },
  {
   "cell_type": "markdown",
   "id": "4f1ea8a0",
   "metadata": {},
   "source": [
    "### 9) 기여도 확인"
   ]
  },
  {
   "cell_type": "code",
   "execution_count": 29,
   "id": "efc0a3a4",
   "metadata": {},
   "outputs": [
    {
     "data": {
      "text/plain": [
       "[('Guys and Dolls (1955)', 0.053160190207180026),\n",
       " ('Close Encounters of the Third Kind (1977)', 0.040466521369167126),\n",
       " ('Wings of Desire (Der Himmel über Berlin) (1987)', 0.040413250798667075),\n",
       " ('Cool Hand Luke (1967)', 0.03865806974876154),\n",
       " ('Mister Roberts (1955)', 0.036200749538347614),\n",
       " ('Pocahontas (1995)', 0.035543804770057925),\n",
       " ('Little Shop of Horrors (1986)', 0.03371443987726105),\n",
       " ('Galaxy Quest (1999)', 0.032943629600979435),\n",
       " ('Producers, The (1968)', 0.03208598758019823),\n",
       " ('Beetlejuice (1988)', 0.03191043046986807)]"
      ]
     },
     "execution_count": 29,
     "metadata": {},
     "output_type": "execute_result"
    }
   ],
   "source": [
    "movie_id = movie_to_idx['Hook (1991)']\n",
    "\n",
    "explain = als_model.explain(user, csr_data, itemid=movie_id)\n",
    "[(idx_to_title[i[0]], i[1]) for i in explain[1]]"
   ]
  },
  {
   "cell_type": "markdown",
   "id": "e101ab8f",
   "metadata": {},
   "source": [
    "### 10) 회고"
   ]
  },
  {
   "cell_type": "markdown",
   "id": "8c3b7deb",
   "metadata": {},
   "source": [
    "- 정확도가 엄청 뛰어나진 않음\n",
    "- 그럭저럭 추천해 주는 것 같음"
   ]
  }
 ],
 "metadata": {
  "kernelspec": {
   "display_name": "Python 3 (ipykernel)",
   "language": "python",
   "name": "python3"
  },
  "language_info": {
   "codemirror_mode": {
    "name": "ipython",
    "version": 3
   },
   "file_extension": ".py",
   "mimetype": "text/x-python",
   "name": "python",
   "nbconvert_exporter": "python",
   "pygments_lexer": "ipython3",
   "version": "3.9.7"
  }
 },
 "nbformat": 4,
 "nbformat_minor": 5
}
